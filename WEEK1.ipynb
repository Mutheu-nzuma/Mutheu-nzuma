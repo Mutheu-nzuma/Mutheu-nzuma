{
 "cells": [
  {
   "cell_type": "code",
   "execution_count": 4,
   "id": "752ad2d5-a55c-4ecc-a89d-78307d33595d",
   "metadata": {},
   "outputs": [],
   "source": [
    "import pandas as pd"
   ]
  },
  {
   "cell_type": "code",
   "execution_count": 59,
   "id": "236b2556-8b5d-4a55-95d2-0ffbf506376c",
   "metadata": {},
   "outputs": [],
   "source": [
    "## importing data"
   ]
  },
  {
   "cell_type": "code",
   "execution_count": 5,
   "id": "0c8179d3-6fea-43a7-bfee-7eb1a2ebe581",
   "metadata": {},
   "outputs": [],
   "source": [
    "file_path = r'C:\\Users\\Jane\\Downloads\\Weather Data.csv'"
   ]
  },
  {
   "cell_type": "code",
   "execution_count": 6,
   "id": "bdf6f5da-c43f-4bdc-8bde-312c3d3b8f38",
   "metadata": {},
   "outputs": [],
   "source": [
    "df = pd.read_csv(file_path)"
   ]
  },
  {
   "cell_type": "code",
   "execution_count": 7,
   "id": "8bf34f3e-93f1-41c0-ad8c-2c7294f06888",
   "metadata": {},
   "outputs": [
    {
     "name": "stdout",
     "output_type": "stream",
     "text": [
      "First 10 rows:\n"
     ]
    }
   ],
   "source": [
    "print(\"First 10 rows:\")"
   ]
  },
  {
   "cell_type": "code",
   "execution_count": 8,
   "id": "2dae955d-8108-4e76-902f-88017f9107ff",
   "metadata": {},
   "outputs": [
    {
     "name": "stdout",
     "output_type": "stream",
     "text": [
      "       Date/Time  Temp_C  Dew Point Temp_C  Rel Hum_%  Wind Speed_km/h  \\\n",
      "0  1/1/2012 0:00    -1.8              -3.9         86                4   \n",
      "1  1/1/2012 1:00    -1.8              -3.7         87                4   \n",
      "2  1/1/2012 2:00    -1.8              -3.4         89                7   \n",
      "3  1/1/2012 3:00    -1.5              -3.2         88                6   \n",
      "4  1/1/2012 4:00    -1.5              -3.3         88                7   \n",
      "5  1/1/2012 5:00    -1.4              -3.3         87                9   \n",
      "6  1/1/2012 6:00    -1.5              -3.1         89                7   \n",
      "7  1/1/2012 7:00    -1.4              -3.6         85                7   \n",
      "8  1/1/2012 8:00    -1.4              -3.6         85                9   \n",
      "9  1/1/2012 9:00    -1.3              -3.1         88               15   \n",
      "\n",
      "   Visibility_km  Press_kPa               Weather  \n",
      "0            8.0     101.24                   Fog  \n",
      "1            8.0     101.24                   Fog  \n",
      "2            4.0     101.26  Freezing Drizzle,Fog  \n",
      "3            4.0     101.27  Freezing Drizzle,Fog  \n",
      "4            4.8     101.23                   Fog  \n",
      "5            6.4     101.27                   Fog  \n",
      "6            6.4     101.29                   Fog  \n",
      "7            8.0     101.26                   Fog  \n",
      "8            8.0     101.23                   Fog  \n",
      "9            4.0     101.20                   Fog  \n"
     ]
    }
   ],
   "source": [
    "print(df.head(10))"
   ]
  },
  {
   "cell_type": "code",
   "execution_count": 9,
   "id": "f9677096-8565-4168-aaaa-70d4b0783a7c",
   "metadata": {},
   "outputs": [
    {
     "name": "stdout",
     "output_type": "stream",
     "text": [
      "\n",
      "Last 10 rows:\n"
     ]
    }
   ],
   "source": [
    "print(\"\\nLast 10 rows:\")\n"
   ]
  },
  {
   "cell_type": "code",
   "execution_count": 10,
   "id": "670c8b7d-58a5-49a4-bea7-dae9a3cb2489",
   "metadata": {},
   "outputs": [
    {
     "name": "stdout",
     "output_type": "stream",
     "text": [
      "             Date/Time  Temp_C  Dew Point Temp_C  Rel Hum_%  Wind Speed_km/h  \\\n",
      "8774  12/31/2012 14:00    -3.4              -5.7         84                6   \n",
      "8775  12/31/2012 15:00    -2.3              -4.6         84                9   \n",
      "8776  12/31/2012 16:00    -1.4              -4.0         82               13   \n",
      "8777  12/31/2012 17:00    -1.1              -3.3         85               19   \n",
      "8778  12/31/2012 18:00    -1.3              -3.1         88               17   \n",
      "8779  12/31/2012 19:00     0.1              -2.7         81               30   \n",
      "8780  12/31/2012 20:00     0.2              -2.4         83               24   \n",
      "8781  12/31/2012 21:00    -0.5              -1.5         93               28   \n",
      "8782  12/31/2012 22:00    -0.2              -1.8         89               28   \n",
      "8783  12/31/2012 23:00     0.0              -2.1         86               30   \n",
      "\n",
      "      Visibility_km  Press_kPa Weather  \n",
      "8774           11.3     100.57    Snow  \n",
      "8775            9.7     100.47    Snow  \n",
      "8776           12.9     100.40    Snow  \n",
      "8777            9.7     100.30    Snow  \n",
      "8778            9.7     100.19    Snow  \n",
      "8779            9.7     100.13    Snow  \n",
      "8780            9.7     100.03    Snow  \n",
      "8781            4.8      99.95    Snow  \n",
      "8782            9.7      99.91    Snow  \n",
      "8783           11.3      99.89    Snow  \n"
     ]
    }
   ],
   "source": [
    "print(df.tail(10))"
   ]
  },
  {
   "cell_type": "code",
   "execution_count": null,
   "id": "e625d37b-931c-4636-bbe4-93b2a56d8782",
   "metadata": {},
   "outputs": [],
   "source": []
  },
  {
   "cell_type": "code",
   "execution_count": 11,
   "id": "de7a23d4-4a25-41e1-899c-eb568aa94432",
   "metadata": {},
   "outputs": [
    {
     "name": "stdout",
     "output_type": "stream",
     "text": [
      "Index(['Date/Time', 'Temp_C', 'Dew Point Temp_C', 'Rel Hum_%',\n",
      "       'Wind Speed_km/h', 'Visibility_km', 'Press_kPa', 'Weather'],\n",
      "      dtype='object')\n"
     ]
    }
   ],
   "source": [
    "print(df.columns)"
   ]
  },
  {
   "cell_type": "code",
   "execution_count": null,
   "id": "ed8b2796-e121-4590-a717-fc75b8b6a4da",
   "metadata": {},
   "outputs": [],
   "source": [
    "##Find all records where the weather was exactly clear."
   ]
  },
  {
   "cell_type": "code",
   "execution_count": 12,
   "id": "4fe69352-8cf5-4645-a8ac-0365b033c5d5",
   "metadata": {},
   "outputs": [],
   "source": [
    "clear_weather_df = df[df['Weather'].str.strip().str.lower() == 'clear']\n"
   ]
  },
  {
   "cell_type": "code",
   "execution_count": 13,
   "id": "1a667533-f95d-4366-9cbd-03e1d8665abb",
   "metadata": {},
   "outputs": [
    {
     "name": "stdout",
     "output_type": "stream",
     "text": [
      "Records where weather is clear:\n"
     ]
    }
   ],
   "source": [
    "print(\"Records where weather is clear:\")"
   ]
  },
  {
   "cell_type": "code",
   "execution_count": null,
   "id": "4b53e5a1-a971-40f4-b101-a92622392e85",
   "metadata": {},
   "outputs": [],
   "source": [
    "print(f\"The number of times the wind speed was exactly 4 km/hr: {wind_speed_count}\")"
   ]
  },
  {
   "cell_type": "code",
   "execution_count": 14,
   "id": "36c00780-4bb1-4196-8896-5c7ac89ad4c1",
   "metadata": {},
   "outputs": [
    {
     "name": "stdout",
     "output_type": "stream",
     "text": [
      "             Date/Time  Temp_C  Dew Point Temp_C  Rel Hum_%  Wind Speed_km/h  \\\n",
      "67      1/3/2012 19:00   -16.9             -24.8         50               24   \n",
      "114     1/5/2012 18:00    -7.1             -14.4         56               11   \n",
      "115     1/5/2012 19:00    -9.2             -15.4         61                7   \n",
      "116     1/5/2012 20:00    -9.8             -15.7         62                9   \n",
      "117     1/5/2012 21:00    -9.0             -14.8         63               13   \n",
      "...                ...     ...               ...        ...              ...   \n",
      "8646   12/26/2012 6:00   -13.4             -14.8         89                4   \n",
      "8698  12/28/2012 10:00    -6.1              -8.6         82               19   \n",
      "8713   12/29/2012 1:00   -11.9             -13.6         87               11   \n",
      "8714   12/29/2012 2:00   -11.8             -13.1         90               13   \n",
      "8756  12/30/2012 20:00   -13.8             -16.5         80               24   \n",
      "\n",
      "      Visibility_km  Press_kPa Weather  \n",
      "67             25.0     101.74   Clear  \n",
      "114            25.0     100.71   Clear  \n",
      "115            25.0     100.80   Clear  \n",
      "116            25.0     100.83   Clear  \n",
      "117            25.0     100.83   Clear  \n",
      "...             ...        ...     ...  \n",
      "8646           25.0     102.47   Clear  \n",
      "8698           24.1     101.27   Clear  \n",
      "8713           25.0     101.31   Clear  \n",
      "8714           25.0     101.33   Clear  \n",
      "8756           25.0     101.52   Clear  \n",
      "\n",
      "[1326 rows x 8 columns]\n"
     ]
    }
   ],
   "source": [
    "print(clear_weather_df)"
   ]
  },
  {
   "cell_type": "code",
   "execution_count": null,
   "id": "ef0fceed-e8b5-4cb7-85b4-03ada0e4f03b",
   "metadata": {},
   "outputs": [],
   "source": [
    "##Find the number of times the wind speed was exactly 4 km/hr."
   ]
  },
  {
   "cell_type": "code",
   "execution_count": 17,
   "id": "757d015f-a72c-4eca-99a1-241b92838505",
   "metadata": {},
   "outputs": [],
   "source": [
    "wind_speed_count = df[df['Wind Speed_km/h'] == 4].shape[0]"
   ]
  },
  {
   "cell_type": "code",
   "execution_count": 18,
   "id": "87849f9b-dfe6-449d-9c7e-1aa47d5e1814",
   "metadata": {},
   "outputs": [
    {
     "name": "stdout",
     "output_type": "stream",
     "text": [
      "The number of times the wind speed was exactly 4 km/hr: 474\n"
     ]
    }
   ],
   "source": [
    "print(f\"The number of times the wind speed was exactly 4 km/hr: {wind_speed_count}\")"
   ]
  },
  {
   "cell_type": "code",
   "execution_count": null,
   "id": "ae126dd2-972c-41f0-a8f6-be8e4d7f7664",
   "metadata": {},
   "outputs": [],
   "source": [
    "##Check if there are any NULL values present in the dataset."
   ]
  },
  {
   "cell_type": "code",
   "execution_count": 19,
   "id": "645d39b7-a087-44cc-9685-d46a5d51b928",
   "metadata": {},
   "outputs": [],
   "source": [
    "null_counts = df.isnull().values.any()"
   ]
  },
  {
   "cell_type": "code",
   "execution_count": 20,
   "id": "9aabcb7f-0dc7-4756-a03a-abc042ad1166",
   "metadata": {},
   "outputs": [
    {
     "name": "stdout",
     "output_type": "stream",
     "text": [
      "Are there any NULL values in the dataset? False\n"
     ]
    }
   ],
   "source": [
    "print(f\"Are there any NULL values in the dataset? {null_counts}\")"
   ]
  },
  {
   "cell_type": "code",
   "execution_count": null,
   "id": "e20bb7ab-43f7-4b94-896d-7ce5d9feaf7f",
   "metadata": {},
   "outputs": [],
   "source": [
    "##Rename the column \"Weather\" to \"Weather_Condition.\""
   ]
  },
  {
   "cell_type": "code",
   "execution_count": 21,
   "id": "4e14833e-16ab-41fb-9fb3-01d3fc57cdaf",
   "metadata": {},
   "outputs": [],
   "source": [
    "df.rename(columns={'Weather': 'Weather_Condition'}, inplace=True)"
   ]
  },
  {
   "cell_type": "code",
   "execution_count": 22,
   "id": "3fa6eab6-ceda-4e20-b20a-70b851b7df3b",
   "metadata": {},
   "outputs": [
    {
     "name": "stdout",
     "output_type": "stream",
     "text": [
      "Index(['Date/Time', 'Temp_C', 'Dew Point Temp_C', 'Rel Hum_%',\n",
      "       'Wind Speed_km/h', 'Visibility_km', 'Press_kPa', 'Weather_Condition'],\n",
      "      dtype='object')\n"
     ]
    }
   ],
   "source": [
    "print(df.columns)"
   ]
  },
  {
   "cell_type": "code",
   "execution_count": null,
   "id": "cf315098-3f63-4798-82d9-4634fd1c098d",
   "metadata": {},
   "outputs": [],
   "source": [
    "##What is the mean visibility of the dataset?"
   ]
  },
  {
   "cell_type": "code",
   "execution_count": 24,
   "id": "a8c6b1a5-7396-4eb3-9874-980e399740c3",
   "metadata": {},
   "outputs": [],
   "source": [
    "mean_visibility = df['Visibility_km'].mean()"
   ]
  },
  {
   "cell_type": "code",
   "execution_count": 25,
   "id": "8d54db1e-a283-44d7-bf4b-d3674169e295",
   "metadata": {},
   "outputs": [
    {
     "name": "stdout",
     "output_type": "stream",
     "text": [
      "The mean visibility of the dataset is: 27.664446721311478\n"
     ]
    }
   ],
   "source": [
    "print(f\"The mean visibility of the dataset is: {mean_visibility}\")"
   ]
  },
  {
   "cell_type": "code",
   "execution_count": null,
   "id": "1b879046-d2db-4f61-b250-71bd635cd194",
   "metadata": {},
   "outputs": [],
   "source": [
    "##Find the number of records where the wind speed is greater than 24 km/hr and visibility is equal to 25 km."
   ]
  },
  {
   "cell_type": "code",
   "execution_count": 26,
   "id": "ba785df0-b8b7-42d4-a65b-d3468d3ff9f5",
   "metadata": {},
   "outputs": [],
   "source": [
    "filteredby_df = df[(df['Wind Speed_km/h'] > 24) & (df['Visibility_km'] == 25)]"
   ]
  },
  {
   "cell_type": "code",
   "execution_count": 27,
   "id": "6cd88565-ebb5-44d7-9706-90c0c7778e8e",
   "metadata": {},
   "outputs": [],
   "source": [
    "record_count = filteredby_df.shape[0]"
   ]
  },
  {
   "cell_type": "code",
   "execution_count": 30,
   "id": "419026a4-d130-4750-aed6-879c880df1ba",
   "metadata": {},
   "outputs": [
    {
     "name": "stdout",
     "output_type": "stream",
     "text": [
      " The number of records where wind speed is greater than 24 km/hr and visibility is 25 km is: 308\n"
     ]
    }
   ],
   "source": [
    "print(f\" The number of records where wind speed is greater than 24 km/hr and visibility is 25 km is: {record_count}\")"
   ]
  },
  {
   "cell_type": "code",
   "execution_count": null,
   "id": "b7b87313-2f44-45d4-8001-e76c53acc45b",
   "metadata": {},
   "outputs": [],
   "source": [
    "##What is the mean value of each column for each weather condition?"
   ]
  },
  {
   "cell_type": "code",
   "execution_count": null,
   "id": "1281756b-0e28-4552-8bef-f56072d7e0eb",
   "metadata": {},
   "outputs": [],
   "source": [
    "# List of columns to convert to numeric"
   ]
  },
  {
   "cell_type": "code",
   "execution_count": 45,
   "id": "be1be0b7-e5a2-4ba7-b68c-9e10e51e5602",
   "metadata": {},
   "outputs": [],
   "source": [
    "numeric_columns = [\n",
    "    'Temp_C',\n",
    "    'Dew Point Temp_C',\n",
    "    'Rel Hum_%',\n",
    "    'Wind Speed_km/h',\n",
    "    'Visibility_km',\n",
    "    'Press_kPa'\n",
    "    ]"
   ]
  },
  {
   "cell_type": "code",
   "execution_count": null,
   "id": "d474f0e4-7b7e-4679-aca7-cbd77e8206dc",
   "metadata": {},
   "outputs": [],
   "source": [
    "#Convert specified columns to numeric, coercing errors to NaN"
   ]
  },
  {
   "cell_type": "code",
   "execution_count": 46,
   "id": "e7f2cffe-575a-43e9-999a-6ced7aedc8e9",
   "metadata": {},
   "outputs": [],
   "source": [
    "df[numeric_columns] = df[numeric_columns].apply(pd.to_numeric, errors='coerce')"
   ]
  },
  {
   "cell_type": "code",
   "execution_count": null,
   "id": "f4e3272d-8271-4ea8-8789-88ff528ef52b",
   "metadata": {},
   "outputs": [],
   "source": [
    "#Group by 'Weather_Condition' and calculate the mean for each numeric column"
   ]
  },
  {
   "cell_type": "code",
   "execution_count": 47,
   "id": "20c950ac-c7b9-4c70-9fa0-bdf49ab8f48f",
   "metadata": {},
   "outputs": [],
   "source": [
    "mean_values = df.groupby('Weather_Condition')[numeric_columns].mean()"
   ]
  },
  {
   "cell_type": "code",
   "execution_count": 48,
   "id": "8d8d2865-4684-4b2c-80e8-f085a8a6c72a",
   "metadata": {},
   "outputs": [
    {
     "name": "stdout",
     "output_type": "stream",
     "text": [
      "Mean value of each column for each weather condition:\n"
     ]
    }
   ],
   "source": [
    "print(\"Mean value of each column for each weather condition:\")"
   ]
  },
  {
   "cell_type": "code",
   "execution_count": 49,
   "id": "36f30495-6dd5-4161-a64a-12ffb536cf88",
   "metadata": {},
   "outputs": [
    {
     "name": "stdout",
     "output_type": "stream",
     "text": [
      "                                            Temp_C  Dew Point Temp_C  \\\n",
      "Weather_Condition                                                      \n",
      "Clear                                     6.825716          0.089367   \n",
      "Cloudy                                    7.970544          2.375810   \n",
      "Drizzle                                   7.353659          5.504878   \n",
      "Drizzle,Fog                               8.067500          7.033750   \n",
      "Drizzle,Ice Pellets,Fog                   0.400000         -0.700000   \n",
      "Drizzle,Snow                              1.050000          0.150000   \n",
      "Drizzle,Snow,Fog                          0.693333          0.120000   \n",
      "Fog                                       4.303333          3.159333   \n",
      "Freezing Drizzle                         -5.657143         -8.000000   \n",
      "Freezing Drizzle,Fog                     -2.533333         -4.183333   \n",
      "Freezing Drizzle,Haze                    -5.433333         -8.000000   \n",
      "Freezing Drizzle,Snow                    -5.109091         -7.072727   \n",
      "Freezing Fog                             -7.575000         -9.250000   \n",
      "Freezing Rain                            -3.885714         -6.078571   \n",
      "Freezing Rain,Fog                        -2.225000         -3.750000   \n",
      "Freezing Rain,Haze                       -4.900000         -7.450000   \n",
      "Freezing Rain,Ice Pellets,Fog            -2.600000         -3.700000   \n",
      "Freezing Rain,Snow Grains                -5.000000         -7.300000   \n",
      "Haze                                     -0.200000         -2.975000   \n",
      "Mainly Clear                             12.558927          4.581671   \n",
      "Moderate Rain,Fog                         1.700000          0.800000   \n",
      "Moderate Snow                            -5.525000         -7.250000   \n",
      "Moderate Snow,Blowing Snow               -5.450000         -6.500000   \n",
      "Mostly Cloudy                            10.574287          3.131174   \n",
      "Rain                                      9.786275          7.042810   \n",
      "Rain Showers                             13.722340          9.187766   \n",
      "Rain Showers,Fog                         12.800000         12.100000   \n",
      "Rain Showers,Snow Showers                 2.150000         -1.500000   \n",
      "Rain,Fog                                  8.273276          7.219828   \n",
      "Rain,Haze                                 4.633333          2.066667   \n",
      "Rain,Ice Pellets                          0.600000         -0.600000   \n",
      "Rain,Snow                                 1.055556         -0.566667   \n",
      "Rain,Snow Grains                          1.900000         -2.100000   \n",
      "Rain,Snow,Fog                             0.800000          0.300000   \n",
      "Rain,Snow,Ice Pellets                     1.100000         -0.175000   \n",
      "Snow                                     -4.524103         -7.623333   \n",
      "Snow Pellets                              0.700000         -6.400000   \n",
      "Snow Showers                             -3.506667         -7.866667   \n",
      "Snow Showers,Fog                        -10.675000        -11.900000   \n",
      "Snow,Blowing Snow                        -5.410526         -7.621053   \n",
      "Snow,Fog                                 -5.075676         -6.364865   \n",
      "Snow,Haze                                -4.020000         -6.860000   \n",
      "Snow,Ice Pellets                         -1.883333         -3.666667   \n",
      "Thunderstorms                            24.150000         19.750000   \n",
      "Thunderstorms,Heavy Rain Showers         10.900000          9.000000   \n",
      "Thunderstorms,Moderate Rain Showers,Fog  19.600000         18.500000   \n",
      "Thunderstorms,Rain                       20.433333         18.533333   \n",
      "Thunderstorms,Rain Showers               20.037500         17.618750   \n",
      "Thunderstorms,Rain Showers,Fog           21.600000         18.700000   \n",
      "Thunderstorms,Rain,Fog                   20.600000         18.600000   \n",
      "\n",
      "                                         Rel Hum_%  Wind Speed_km/h  \\\n",
      "Weather_Condition                                                     \n",
      "Clear                                    64.497738        10.557315   \n",
      "Cloudy                                   69.592593        16.127315   \n",
      "Drizzle                                  88.243902        16.097561   \n",
      "Drizzle,Fog                              93.275000        11.862500   \n",
      "Drizzle,Ice Pellets,Fog                  92.000000        20.000000   \n",
      "Drizzle,Snow                             93.500000        14.000000   \n",
      "Drizzle,Snow,Fog                         95.866667        15.533333   \n",
      "Fog                                      92.286667         7.946667   \n",
      "Freezing Drizzle                         83.571429        16.571429   \n",
      "Freezing Drizzle,Fog                     88.500000        17.000000   \n",
      "Freezing Drizzle,Haze                    82.000000        10.333333   \n",
      "Freezing Drizzle,Snow                    86.090909        16.272727   \n",
      "Freezing Fog                             87.750000         4.750000   \n",
      "Freezing Rain                            84.642857        19.214286   \n",
      "Freezing Rain,Fog                        89.500000        15.500000   \n",
      "Freezing Rain,Haze                       82.500000         7.500000   \n",
      "Freezing Rain,Ice Pellets,Fog            92.000000        28.000000   \n",
      "Freezing Rain,Snow Grains                84.000000        32.000000   \n",
      "Haze                                     81.625000        10.437500   \n",
      "Mainly Clear                             60.667142        14.144824   \n",
      "Moderate Rain,Fog                        94.000000        17.000000   \n",
      "Moderate Snow                            87.750000        33.750000   \n",
      "Moderate Snow,Blowing Snow               92.500000        40.000000   \n",
      "Mostly Cloudy                            62.102465        15.813920   \n",
      "Rain                                     83.624183        19.254902   \n",
      "Rain Showers                             75.159574        17.132979   \n",
      "Rain Showers,Fog                         96.000000        13.000000   \n",
      "Rain Showers,Snow Showers                76.500000        22.500000   \n",
      "Rain,Fog                                 93.189655        14.793103   \n",
      "Rain,Haze                                83.333333        11.666667   \n",
      "Rain,Ice Pellets                         92.000000        24.000000   \n",
      "Rain,Snow                                89.000000        28.388889   \n",
      "Rain,Snow Grains                         75.000000        26.000000   \n",
      "Rain,Snow,Fog                            96.000000         9.000000   \n",
      "Rain,Snow,Ice Pellets                    91.500000        23.250000   \n",
      "Snow                                     79.307692        20.038462   \n",
      "Snow Pellets                             59.000000        35.000000   \n",
      "Snow Showers                             72.350000        19.233333   \n",
      "Snow Showers,Fog                         90.750000        13.750000   \n",
      "Snow,Blowing Snow                        84.473684        34.842105   \n",
      "Snow,Fog                                 90.675676        17.324324   \n",
      "Snow,Haze                                80.600000         5.000000   \n",
      "Snow,Ice Pellets                         87.666667        23.833333   \n",
      "Thunderstorms                            77.000000         7.500000   \n",
      "Thunderstorms,Heavy Rain Showers         88.000000         9.000000   \n",
      "Thunderstorms,Moderate Rain Showers,Fog  93.000000        15.000000   \n",
      "Thunderstorms,Rain                       89.000000        15.666667   \n",
      "Thunderstorms,Rain Showers               86.375000        18.312500   \n",
      "Thunderstorms,Rain Showers,Fog           84.000000        19.666667   \n",
      "Thunderstorms,Rain,Fog                   88.000000        19.000000   \n",
      "\n",
      "                                         Visibility_km   Press_kPa  \n",
      "Weather_Condition                                                   \n",
      "Clear                                        30.153243  101.587443  \n",
      "Cloudy                                       26.625752  100.911441  \n",
      "Drizzle                                      17.931707  100.435366  \n",
      "Drizzle,Fog                                   5.257500  100.786625  \n",
      "Drizzle,Ice Pellets,Fog                       4.000000  100.790000  \n",
      "Drizzle,Snow                                 10.500000  100.890000  \n",
      "Drizzle,Snow,Fog                              5.513333   99.281333  \n",
      "Fog                                           6.248000  101.184067  \n",
      "Freezing Drizzle                              9.200000  100.202857  \n",
      "Freezing Drizzle,Fog                          5.266667  100.441667  \n",
      "Freezing Drizzle,Haze                         2.666667  100.316667  \n",
      "Freezing Drizzle,Snow                         5.872727  100.520909  \n",
      "Freezing Fog                                  0.650000  102.320000  \n",
      "Freezing Rain                                 8.242857   99.647143  \n",
      "Freezing Rain,Fog                             7.550000   99.945000  \n",
      "Freezing Rain,Haze                            2.400000  100.375000  \n",
      "Freezing Rain,Ice Pellets,Fog                 8.000000  100.950000  \n",
      "Freezing Rain,Snow Grains                     4.800000   98.560000  \n",
      "Haze                                          7.831250  101.482500  \n",
      "Mainly Clear                                 34.264862  101.248832  \n",
      "Moderate Rain,Fog                             6.400000   99.980000  \n",
      "Moderate Snow                                 0.750000  100.275000  \n",
      "Moderate Snow,Blowing Snow                    0.600000  100.570000  \n",
      "Mostly Cloudy                                31.253842  101.025288  \n",
      "Rain                                         18.856536  100.233333  \n",
      "Rain Showers                                 22.816489  100.404043  \n",
      "Rain Showers,Fog                              6.400000   99.830000  \n",
      "Rain Showers,Snow Showers                    21.700000  101.100000  \n",
      "Rain,Fog                                      6.873276  100.500862  \n",
      "Rain,Haze                                     6.700000  100.540000  \n",
      "Rain,Ice Pellets                              9.700000  100.120000  \n",
      "Rain,Snow                                    11.672222   99.951111  \n",
      "Rain,Snow Grains                             25.000000  100.600000  \n",
      "Rain,Snow,Fog                                 6.400000  100.730000  \n",
      "Rain,Snow,Ice Pellets                         6.000000  100.105000  \n",
      "Snow                                         11.171795  100.536103  \n",
      "Snow Pellets                                  2.400000   99.700000  \n",
      "Snow Showers                                 20.158333  100.963500  \n",
      "Snow Showers,Fog                              7.025000  101.292500  \n",
      "Snow,Blowing Snow                             4.105263   99.704737  \n",
      "Snow,Fog                                      4.537838  100.688649  \n",
      "Snow,Haze                                     4.640000  100.782000  \n",
      "Snow,Ice Pellets                              7.416667  100.548333  \n",
      "Thunderstorms                                24.550000  100.230000  \n",
      "Thunderstorms,Heavy Rain Showers              2.400000  100.260000  \n",
      "Thunderstorms,Moderate Rain Showers,Fog       3.200000  100.010000  \n",
      "Thunderstorms,Rain                           19.833333  100.420000  \n",
      "Thunderstorms,Rain Showers                   15.893750  100.233750  \n",
      "Thunderstorms,Rain Showers,Fog                9.700000  100.063333  \n",
      "Thunderstorms,Rain,Fog                        4.800000  100.080000  \n"
     ]
    }
   ],
   "source": [
    "print(mean_values)"
   ]
  },
  {
   "cell_type": "code",
   "execution_count": null,
   "id": "94d41321-6b4c-41da-9fe8-2b22eccf9260",
   "metadata": {},
   "outputs": [],
   "source": [
    "##Find all instances where the weather is clear and the relative humidity is greater than 50, or visibility is above 40."
   ]
  },
  {
   "cell_type": "code",
   "execution_count": 39,
   "id": "ddab9f33-997a-4768-8623-d66155a5d52e",
   "metadata": {},
   "outputs": [],
   "source": [
    "filtered2_df = df[\n",
    "    (df['Weather_Condition'].str.strip().str.lower() == 'clear') &\n",
    "    ((df['Rel Hum_%'] > 50) | (df['Visibility_km'] > 40))\n",
    "]"
   ]
  },
  {
   "cell_type": "code",
   "execution_count": 42,
   "id": "1fdf55f3-97f2-49be-a3bb-035901744667",
   "metadata": {},
   "outputs": [],
   "source": [
    "record_count = filtered2_df.shape[0]"
   ]
  },
  {
   "cell_type": "code",
   "execution_count": 43,
   "id": "6539e231-0490-4ed5-8ea8-86d1bafb964f",
   "metadata": {},
   "outputs": [
    {
     "name": "stdout",
     "output_type": "stream",
     "text": [
      "Filtered records where weather is clear and relative humidity is greater than 50, or visibility is above 40:1220\n"
     ]
    }
   ],
   "source": [
    "print(F\"Filtered records where weather is clear and relative humidity is greater than 50, or visibility is above 40:{record_count}\")"
   ]
  },
  {
   "cell_type": "code",
   "execution_count": 41,
   "id": "d2e24439-ba22-46fd-8d5b-bd41732999fb",
   "metadata": {},
   "outputs": [
    {
     "name": "stdout",
     "output_type": "stream",
     "text": [
      "             Date/Time  Temp_C  Dew Point Temp_C  Rel Hum_%  Wind Speed_km/h  \\\n",
      "114     1/5/2012 18:00    -7.1             -14.4         56               11   \n",
      "115     1/5/2012 19:00    -9.2             -15.4         61                7   \n",
      "116     1/5/2012 20:00    -9.8             -15.7         62                9   \n",
      "117     1/5/2012 21:00    -9.0             -14.8         63               13   \n",
      "241     1/11/2012 1:00   -10.7             -17.8         56               17   \n",
      "...                ...     ...               ...        ...              ...   \n",
      "8646   12/26/2012 6:00   -13.4             -14.8         89                4   \n",
      "8698  12/28/2012 10:00    -6.1              -8.6         82               19   \n",
      "8713   12/29/2012 1:00   -11.9             -13.6         87               11   \n",
      "8714   12/29/2012 2:00   -11.8             -13.1         90               13   \n",
      "8756  12/30/2012 20:00   -13.8             -16.5         80               24   \n",
      "\n",
      "      Visibility_km  Press_kPa Weather_Condition  \n",
      "114            25.0     100.71             Clear  \n",
      "115            25.0     100.80             Clear  \n",
      "116            25.0     100.83             Clear  \n",
      "117            25.0     100.83             Clear  \n",
      "241            25.0     101.49             Clear  \n",
      "...             ...        ...               ...  \n",
      "8646           25.0     102.47             Clear  \n",
      "8698           24.1     101.27             Clear  \n",
      "8713           25.0     101.31             Clear  \n",
      "8714           25.0     101.33             Clear  \n",
      "8756           25.0     101.52             Clear  \n",
      "\n",
      "[1220 rows x 8 columns]\n"
     ]
    }
   ],
   "source": [
    "print(filtered2_df)"
   ]
  },
  {
   "cell_type": "code",
   "execution_count": null,
   "id": "03b33668-0afd-4869-89dd-31d9a47601ba",
   "metadata": {},
   "outputs": [],
   "source": [
    "##Find the number of weather conditions that include snow."
   ]
  },
  {
   "cell_type": "code",
   "execution_count": 57,
   "id": "b7980c9e-3819-49a2-bbba-e4528f0f2a54",
   "metadata": {},
   "outputs": [],
   "source": [
    "now_conditions_count = df['Weather_Condition'].str.contains('snow', na=False).sum()"
   ]
  },
  {
   "cell_type": "code",
   "execution_count": 58,
   "id": "4bbf2b73-5a23-4123-a423-537d5fe7efb5",
   "metadata": {},
   "outputs": [
    {
     "name": "stdout",
     "output_type": "stream",
     "text": [
      "The number of entries where the weather condition includes snow is: 583\n"
     ]
    }
   ],
   "source": [
    "print(f\"The number of entries where the weather condition includes snow is: {snow_conditions_count}\")"
   ]
  },
  {
   "cell_type": "code",
   "execution_count": null,
   "id": "469ba00d-b874-4fd4-a26a-ffba89f79f80",
   "metadata": {},
   "outputs": [],
   "source": []
  }
 ],
 "metadata": {
  "kernelspec": {
   "display_name": "Python 3 (ipykernel)",
   "language": "python",
   "name": "python3"
  },
  "language_info": {
   "codemirror_mode": {
    "name": "ipython",
    "version": 3
   },
   "file_extension": ".py",
   "mimetype": "text/x-python",
   "name": "python",
   "nbconvert_exporter": "python",
   "pygments_lexer": "ipython3",
   "version": "3.12.4"
  }
 },
 "nbformat": 4,
 "nbformat_minor": 5
}
